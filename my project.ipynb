{
 "cells": [
  {
   "cell_type": "code",
   "execution_count": 10,
   "id": "9ea7ea98",
   "metadata": {},
   "outputs": [
    {
     "data": {
      "text/plain": [
       "0.85"
      ]
     },
     "execution_count": 10,
     "metadata": {},
     "output_type": "execute_result"
    }
   ],
   "source": [
    "import pandas as pd\n",
    "from sklearn.tree import DecisionTreeClassifier\n",
    "from sklearn.model_selection import train_test_split\n",
    "from sklearn.metrics import accuracy_score\n",
    "\n",
    "data = pd.read_csv('social.csv')\n",
    "X = data.drop(columns=['Purchased'])\n",
    "Y = data['Purchased']\n",
    "X_train,X_test,Y_train,Y_test=train_test_split(X,Y,test_size=0.2)\n",
    "\n",
    "model = DecisionTreeClassifier()\n",
    "model.fit(X_train,Y_train)\n",
    "\n",
    "p = model.predict(X_test)\n",
    "\n",
    "s = accuracy_score(Y_test,p)\n",
    "s"
   ]
  },
  {
   "cell_type": "code",
   "execution_count": 14,
   "id": "6060daec",
   "metadata": {},
   "outputs": [
    {
     "data": {
      "text/plain": [
       "['mytask.joblib']"
      ]
     },
     "execution_count": 14,
     "metadata": {},
     "output_type": "execute_result"
    }
   ],
   "source": [
    "import pandas as pd\n",
    "from sklearn.tree import DecisionTreeClassifier\n",
    "import joblib as jb\n",
    "\n",
    "data=pd.read_csv('social.csv')\n",
    "X=data.drop(columns=['Purchased'])\n",
    "Y=data['Purchased']\n",
    "\n",
    "model=DecisionTreeClassifier()\n",
    "model.fit(X,Y)\n",
    "\n",
    "jb.dump(model,'mytask.joblib')\n",
    "#p=model.predict([[32,360000]])\n"
   ]
  },
  {
   "cell_type": "code",
   "execution_count": 27,
   "id": "406351de",
   "metadata": {},
   "outputs": [
    {
     "name": "stderr",
     "output_type": "stream",
     "text": [
      "C:\\ProgramData\\anaconda3\\my anaconda\\Lib\\site-packages\\sklearn\\base.py:464: UserWarning: X does not have valid feature names, but DecisionTreeClassifier was fitted with feature names\n",
      "  warnings.warn(\n"
     ]
    },
    {
     "data": {
      "text/plain": [
       "array([1], dtype=int64)"
      ]
     },
     "execution_count": 27,
     "metadata": {},
     "output_type": "execute_result"
    }
   ],
   "source": [
    "import pandas as pd\n",
    "from sklearn.tree import DecisionTreeClassifier\n",
    "import joblib as jb\n",
    "\n",
    "#data=pd.read_csv('social.csv')\n",
    "#x=data.drop(columns=['Purchased'])\n",
    "#y=data['Purchased']\n",
    "#model=DecisionTreeClassifier()\n",
    "#model.fit(x,y)\n",
    "model=jb.load('mytask.joblib')\n",
    "p=model.predict([[32,360000]])\n",
    "p"
   ]
  },
  {
   "cell_type": "code",
   "execution_count": 49,
   "id": "13720e1f",
   "metadata": {},
   "outputs": [],
   "source": [
    "import pandas as pd\n",
    "from sklearn.tree import DecisionTreeClassifier\n",
    "from sklearn import tree\n",
    "\n",
    "data=pd.read_csv('social.csv')\n",
    "X = data.drop(columns=['Purchased'])\n",
    "Y = data['Purchased']\n",
    "\n",
    "model=DecisionTreeClassifier()\n",
    "model.fit(X,Y)\n",
    "\n",
    "tree.export_graphviz(model, out_file='gdsc_1task.dot',\n",
    "                    feature_names=['Age','EstimatedSalary'],\n",
    "                    class_names=['0','1'],\n",
    "                    label='all',\n",
    "                    rounded=True,\n",
    "                    filled=True)"
   ]
  }
 ],
 "metadata": {
  "kernelspec": {
   "display_name": "Python 3 (ipykernel)",
   "language": "python",
   "name": "python3"
  },
  "language_info": {
   "codemirror_mode": {
    "name": "ipython",
    "version": 3
   },
   "file_extension": ".py",
   "mimetype": "text/x-python",
   "name": "python",
   "nbconvert_exporter": "python",
   "pygments_lexer": "ipython3",
   "version": "3.11.5"
  }
 },
 "nbformat": 4,
 "nbformat_minor": 5
}
